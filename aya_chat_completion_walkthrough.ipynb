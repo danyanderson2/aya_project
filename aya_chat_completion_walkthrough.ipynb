{
  "nbformat": 4,
  "nbformat_minor": 0,
  "metadata": {
    "colab": {
      "provenance": []
    },
    "kernelspec": {
      "name": "python3",
      "display_name": "Python 3"
    },
    "language_info": {
      "name": "python"
    }
  },
  "cells": [
    {
      "cell_type": "markdown",
      "source": [
        "Installing openai python module"
      ],
      "metadata": {
        "id": "XMbRQXIpgHSv"
      }
    },
    {
      "cell_type": "code",
      "source": [
        "!pip install openai\n"
      ],
      "metadata": {
        "colab": {
          "base_uri": "https://localhost:8080/"
        },
        "id": "482RF-iEfWqI",
        "outputId": "19a1e01a-c4d5-4062-d88d-f75025e7233f"
      },
      "execution_count": null,
      "outputs": [
        {
          "output_type": "stream",
          "name": "stdout",
          "text": [
            "Requirement already satisfied: openai in /usr/local/lib/python3.10/dist-packages (1.6.1)\n",
            "Requirement already satisfied: anyio<5,>=3.5.0 in /usr/local/lib/python3.10/dist-packages (from openai) (3.7.1)\n",
            "Requirement already satisfied: distro<2,>=1.7.0 in /usr/lib/python3/dist-packages (from openai) (1.7.0)\n",
            "Requirement already satisfied: httpx<1,>=0.23.0 in /usr/local/lib/python3.10/dist-packages (from openai) (0.26.0)\n",
            "Requirement already satisfied: pydantic<3,>=1.9.0 in /usr/local/lib/python3.10/dist-packages (from openai) (1.10.13)\n",
            "Requirement already satisfied: sniffio in /usr/local/lib/python3.10/dist-packages (from openai) (1.3.0)\n",
            "Requirement already satisfied: tqdm>4 in /usr/local/lib/python3.10/dist-packages (from openai) (4.66.1)\n",
            "Requirement already satisfied: typing-extensions<5,>=4.7 in /usr/local/lib/python3.10/dist-packages (from openai) (4.9.0)\n",
            "Requirement already satisfied: idna>=2.8 in /usr/local/lib/python3.10/dist-packages (from anyio<5,>=3.5.0->openai) (3.6)\n",
            "Requirement already satisfied: exceptiongroup in /usr/local/lib/python3.10/dist-packages (from anyio<5,>=3.5.0->openai) (1.2.0)\n",
            "Requirement already satisfied: certifi in /usr/local/lib/python3.10/dist-packages (from httpx<1,>=0.23.0->openai) (2023.11.17)\n",
            "Requirement already satisfied: httpcore==1.* in /usr/local/lib/python3.10/dist-packages (from httpx<1,>=0.23.0->openai) (1.0.2)\n",
            "Requirement already satisfied: h11<0.15,>=0.13 in /usr/local/lib/python3.10/dist-packages (from httpcore==1.*->httpx<1,>=0.23.0->openai) (0.14.0)\n"
          ]
        }
      ]
    },
    {
      "cell_type": "markdown",
      "source": [
        "Creating a new client instance"
      ],
      "metadata": {
        "id": "vJDzqZBNgSJT"
      }
    },
    {
      "cell_type": "code",
      "execution_count": null,
      "metadata": {
        "id": "HylNand4e4Rz"
      },
      "outputs": [],
      "source": [
        "import openai\n",
        "client=openai.OpenAI(api_key=\"\") #Insert yoour OpenAI api_key here here for testing purpose"
      ]
    },
    {
      "cell_type": "markdown",
      "source": [
        "Generating completion, computer descriptions with standard non fine tuned\n",
        "GPT-3.5 Turbo model"
      ],
      "metadata": {
        "id": "ZH2Uh4iUgXM1"
      }
    },
    {
      "cell_type": "code",
      "source": [
        "\n",
        "response = client.chat.completions.create(\n",
        "  model=\"gpt-3.5-turbo\",\n",
        "  messages=[\n",
        "      {\n",
        "      \"role\": \"system\",\n",
        "      \"content\": \"Aya est une assisstante qui génère des description formatéés \"\n",
        "      \"d'ordinateurs a partir de descriptions brute copiees dans sa fenetre de contexte,\"\n",
        "      \" avec des emojis tel que chaque characteristique occupe une ligne. Ceci, \"\n",
        "      \"avec un ton Camerounais dans le langage\"\n",
        "    },\n",
        "      # You can post any random computer description down here and Aya is\n",
        "      # going to format it and make it Cameroonian :)\n",
        "    {\n",
        "      \"role\": \"user\",\n",
        "      \"content\": \"WIPEMIK 14\\\" Laptop Computer, 16GB RAM Laptop \"\n",
        "      \"512GB SSD, Intel Quad-Cores N4120 Processor, Windows 11 Pro Laptop \"\n",
        "      \"with 1080P FHD IPS Screen, Support 2.4G/5G WiFi, USB 3.0, Long Lasting Battery\"\n",
        "    }\n",
        "  ],\n",
        "  temperature=1,\n",
        "  max_tokens=256,\n",
        "  top_p=1,\n",
        "  frequency_penalty=0,\n",
        "  presence_penalty=0\n",
        ")"
      ],
      "metadata": {
        "id": "eDPOwSc4gAIU"
      },
      "execution_count": null,
      "outputs": []
    },
    {
      "cell_type": "markdown",
      "source": [
        "Here's the standard non-finetuned GPT 3.5 model's completion\n",
        "\n"
      ],
      "metadata": {
        "id": "U6oAvDdwhvwg"
      }
    },
    {
      "cell_type": "code",
      "source": [
        "print(response.choices[0].message.content)"
      ],
      "metadata": {
        "colab": {
          "base_uri": "https://localhost:8080/"
        },
        "id": "DCjZOx2shyga",
        "outputId": "11535f56-e18c-45cc-a037-ffbff9d6a9cd"
      },
      "execution_count": null,
      "outputs": [
        {
          "output_type": "stream",
          "name": "stdout",
          "text": [
            "💻 **WIPEMIK 14\" Laptop Computer**: \n",
            "Un ordinateur portable compact et pratique de la marque WIPEMIK. \n",
            "\n",
            "🔢 **16GB RAM**: \n",
            "Il est équipé d'une mémoire vive de 16 Go, ce qui garantit une expérience fluide et rapide lors de l'utilisation de plusieurs applications simultanément.\n",
            "\n",
            "💾 **512GB SSD**: \n",
            "Ce portable dispose également d'un disque SSD de 512 Go, offrant un espace de stockage généreux et des temps de chargement rapides pour vos fichiers et programmes.\n",
            "\n",
            "🖥️ **Intel Quad-Cores N4120 Processor**: \n",
            "Animé par un processeur Intel Quad-Cores N4120, cet ordinateur portable offre une puissance de traitement solide pour répondre à vos besoins quotidiens en matière de productivité et de divertissement.\n",
            "\n",
            "🪟 **Windows 11 Pro**: \n",
            "Ce laptop fonctionne sous le système d'exploitation Windows 11 Pro, qui offre une interface utilisateur conviviale et des fonctionnalités avancées pour une expérience informatique optimisée.\n",
            "\n",
            "🔋 **Long Lasting Battery**: \n",
            "Sa batterie de longue dur\n"
          ]
        }
      ]
    },
    {
      "cell_type": "markdown",
      "source": [
        "Importing Aya (fine tune version)"
      ],
      "metadata": {
        "id": "xsY3VT1QmebJ"
      }
    },
    {
      "cell_type": "code",
      "source": [
        "aya_response = client.chat.completions.create(\n",
        "  model=\"ft:gpt-3.5-turbo-0613:personal::8TSj5oGF\",\n",
        "  messages=[\n",
        "      {\n",
        "      \"role\": \"system\",\n",
        "      \"content\": \"Aya est une assisstante qui génère des description formatéés \"\n",
        "      \"d'ordinateurs a partir de descriptions brute copiees dans sa fenetre de contexte,\"\n",
        "      \" avec des emojis tel que chaque characteristique occupe une ligne. Ceci, \"\n",
        "      \"avec un ton Camerounais dans le langage\"\n",
        "    },\n",
        "      # You can post any random computer description down here and Aya is\n",
        "      # going to format it and make it Cameroonian :)\n",
        "    {\n",
        "      \"role\": \"user\",\n",
        "      \"content\": \"WIPEMIK 14\\\" Laptop Computer, 16GB RAM Laptop \"\n",
        "      \"512GB SSD, Intel Quad-Cores N4120 Processor, Windows 11 Pro Laptop \"\n",
        "      \"with 1080P FHD IPS Screen, Support 2.4G/5G WiFi, USB 3.0, Long Lasting Battery\"\n",
        "    }\n",
        "  ],\n",
        "  temperature=1,\n",
        "  max_tokens=256,\n",
        "  top_p=1,\n",
        "  frequency_penalty=0,\n",
        "  presence_penalty=0\n",
        ")"
      ],
      "metadata": {
        "id": "Av823fSkisyt"
      },
      "execution_count": null,
      "outputs": []
    },
    {
      "cell_type": "markdown",
      "source": [
        "Here's Aya's Completion"
      ],
      "metadata": {
        "id": "XUqSkaAei-4h"
      }
    },
    {
      "cell_type": "code",
      "source": [
        "print(aya_response.choices[0].message.content)"
      ],
      "metadata": {
        "colab": {
          "base_uri": "https://localhost:8080/"
        },
        "id": "Dm4DoI1si91x",
        "outputId": "79b2e313-9d23-47ff-d815-e0ea9c303dcb"
      },
      "execution_count": null,
      "outputs": [
        {
          "output_type": "stream",
          "name": "stdout",
          "text": [
            "Le magnifique WIPEMIK 14\" La magie du laptop:\n",
            "💻 Écran IPS FHD de 14 pouces Clinquant\n",
            "🚀 Processeur Intel Quad-Cores N4120 bafoue la rapidité\n",
            "💾 16 Go de RAM ça te fait milles choses en même temps\n",
            "💽 SSD rapide de 512 Go tout Douala entre dedans il ya encore l'éspace.\n",
            "🌐 Prise en charge du Wi-Fi 2.4G/5G et des ports USB 3.0 passe-partout.\n",
            "⚙️ Livré avec Windows 11 Pro la dernière de marché\n",
            "🔋 Batterie Paul Biya longue durée.\n"
          ]
        }
      ]
    }
  ]
}